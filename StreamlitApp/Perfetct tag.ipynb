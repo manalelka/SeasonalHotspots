{
 "cells": [
  {
   "cell_type": "code",
   "execution_count": 7,
   "metadata": {},
   "outputs": [],
   "source": [
    "from sklearn.cluster import KMeans\n",
    "from sklearn.feature_extraction.text import TfidfVectorizer\n",
    "from loadingData import *\n",
    "\n",
    "df=loadData()"
   ]
  },
  {
   "cell_type": "code",
   "execution_count": 22,
   "metadata": {},
   "outputs": [],
   "source": [
    "clusters = 10\n",
    "top_limit = 10"
   ]
  },
  {
   "cell_type": "code",
   "execution_count": 23,
   "metadata": {},
   "outputs": [
    {
     "name": "stdout",
     "output_type": "stream",
     "text": [
      "64105\n",
      "فيان_الخالدي\n",
      "tavastia tavastiaklubi\n"
     ]
    }
   ],
   "source": [
    "tag_series = df['tags']\n",
    "posts = []\n",
    "for index, tag_list in tag_series.items():\n",
    "    if len(tag_list) > 0:\n",
    "        posts.append(\" \".join(tag_list))\n",
    "        \n",
    "print(len(posts))\n",
    "print(posts[0])\n",
    "print(posts[1])"
   ]
  },
  {
   "cell_type": "code",
   "execution_count": 24,
   "metadata": {},
   "outputs": [],
   "source": [
    "vectorizer = TfidfVectorizer()\n",
    "posts_matrix = vectorizer.fit_transform(posts)\n",
    "\n",
    "\n"
   ]
  },
  {
   "cell_type": "code",
   "execution_count": 25,
   "metadata": {},
   "outputs": [],
   "source": [
    "model = KMeans(\n",
    "    n_clusters=clusters,\n",
    "    init='k-means++',\n",
    "    max_iter=100,\n",
    "    n_init=1,\n",
    ")\n",
    "\n",
    "post_clusters = model.fit_predict(posts_matrix)\n",
    "ordered_centers = model.cluster_centers_.argsort()[:, ::-1]\n",
    "tags = vectorizer.get_feature_names()\n",
    "\n"
   ]
  },
  {
   "cell_type": "code",
   "execution_count": 26,
   "metadata": {},
   "outputs": [
    {
     "name": "stdout",
     "output_type": "stream",
     "text": [
      "Cluster :0\n",
      "eid_mubarak\n",
      "عيد_مبارك\n",
      "عید_مبارک\n",
      "عيدكم_مبارك\n",
      "عيد\n",
      "كل_عام_وانتم_بخير\n",
      "عيدالاضحى\n",
      "eidcollection\n",
      "تصاميم\n",
      "eid\n",
      "Cluster :1\n",
      "helsinki\n",
      "finland\n",
      "suomi\n",
      "photography\n",
      "autumn\n",
      "helsinkifinland\n",
      "travel\n",
      "nature\n",
      "sunset\n",
      "хельсинки\n",
      "Cluster :2\n",
      "helsinki\n",
      "dogsofinstagram\n",
      "photography\n",
      "autumn\n",
      "love\n",
      "syksy\n",
      "selfie\n",
      "tb\n",
      "dog\n",
      "art\n",
      "Cluster :3\n",
      "abstractart\n",
      "art\n",
      "instaart\n",
      "modernart\n",
      "acrylicpainting\n",
      "painting\n",
      "abstract\n",
      "artwork\n",
      "taidettakotiin\n",
      "artoftheday\n",
      "Cluster :4\n",
      "finland_photolovers\n",
      "visitfinland\n",
      "thebestoffinland\n",
      "discoverfinland\n",
      "thisisfinland\n",
      "visithelsinki\n",
      "ourfinland\n",
      "beautyofsuomi\n",
      "myhelsinki\n",
      "ig_finland\n",
      "Cluster :5\n",
      "contemporaryart\n",
      "painting\n",
      "mikkolautiainenart\n",
      "pastelonpaper\n",
      "pastelpainting\n",
      "fineart\n",
      "visualart\n",
      "artwork\n",
      "art\n",
      "artistic\n",
      "Cluster :6\n",
      "myhelsinki\n",
      "helsinki\n",
      "visithelsinki\n",
      "finland\n",
      "streetphotography\n",
      "irunhelsinki\n",
      "visitfinland\n",
      "helsinkiofficial\n",
      "sunset\n",
      "architecture\n",
      "Cluster :7\n",
      "catsofinstagram\n",
      "cat\n",
      "catlife\n",
      "cats\n",
      "cats_of_instagram\n",
      "kitten\n",
      "kittensofinstagram\n",
      "abyssinian\n",
      "kissa\n",
      "abycat\n",
      "Cluster :8\n",
      "summer\n",
      "helsinki\n",
      "finland\n",
      "kesä\n",
      "nature\n",
      "summervibes\n",
      "photography\n",
      "sea\n",
      "happy\n",
      "suomi\n",
      "Cluster :9\n",
      "helsinki\n",
      "finland\n",
      "glitchart\n",
      "finlandart\n",
      "musiclife\n",
      "progressivehouse\n",
      "songwriting\n",
      "producerlife\n",
      "musicianlife\n",
      "housemusic\n"
     ]
    }
   ],
   "source": [
    "for idx, cluster in enumerate(ordered_centers):\n",
    "    print(f\"Cluster :{idx}\")\n",
    "    for tag_in_cluster in cluster[:top_limit]:\n",
    "        print(tags[tag_in_cluster])\n"
   ]
  },
  {
   "cell_type": "code",
   "execution_count": null,
   "metadata": {},
   "outputs": [],
   "source": []
  }
 ],
 "metadata": {
  "kernelspec": {
   "display_name": "Python 3",
   "language": "python",
   "name": "python3"
  },
  "language_info": {
   "codemirror_mode": {
    "name": "ipython",
    "version": 3
   },
   "file_extension": ".py",
   "mimetype": "text/x-python",
   "name": "python",
   "nbconvert_exporter": "python",
   "pygments_lexer": "ipython3",
   "version": "3.8.2"
  }
 },
 "nbformat": 4,
 "nbformat_minor": 4
}
