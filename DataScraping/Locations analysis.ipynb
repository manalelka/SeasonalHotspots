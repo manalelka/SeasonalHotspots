{
 "cells": [
  {
   "cell_type": "code",
   "execution_count": 41,
   "metadata": {},
   "outputs": [],
   "source": [
    "import pandas as pd\n",
    "import numpy as np\n",
    "import json\n",
    "import re\n",
    "import time\n",
    "import datetime as dt\n",
    "import matplotlib.pyplot as plt\n",
    "import ast\n",
    "import operator\n",
    "from sklearn import linear_model, model_selection, feature_selection\n",
    "from selenium import webdriver\n",
    "from bs4 import BeautifulSoup\n",
    "from webdriver_manager.chrome import ChromeDriverManager\n",
    "import collections"
   ]
  },
  {
   "cell_type": "code",
   "execution_count": 4,
   "metadata": {},
   "outputs": [],
   "source": [
    "\n",
    "def get_features(row):\n",
    "    \"\"\" access the wanted fields from one row of data \"\"\"\n",
    "    try:\n",
    "        location_id = row[\"location\"][\"id\"]\n",
    "    except:\n",
    "        location_id = None\n",
    "    try:\n",
    "        location_name = row[\"location\"][\"name\"]\n",
    "    except:\n",
    "        location_name = None\n",
    "    try:\n",
    "        tags = row[\"tags\"]\n",
    "    except:\n",
    "        tags = []\n",
    "    timestamp = dt.datetime.fromtimestamp(row[\"taken_at_timestamp\"])\n",
    "    \n",
    "\n",
    "    try:\n",
    "        address_str = json.loads(row[\"location\"][\"address_json\"])\n",
    "        address = address_str[\"street_address\"]\n",
    "        zip_code = address_str[\"zip_code\"]\n",
    "        city_name = address_str[\"city_name\"]\n",
    "        region_name = address_str[\"region_name\"]\n",
    "    except:\n",
    "        address_str = []\n",
    "        address = []\n",
    "        zip_code = []\n",
    "        city_name = []\n",
    "        region_name = []\n",
    "\n",
    "\n",
    "    return [location_id, location_name, address, zip_code, city_name, region_name, tags, timestamp]"
   ]
  },
  {
   "cell_type": "code",
   "execution_count": 5,
   "metadata": {},
   "outputs": [],
   "source": [
    "filepath = '100k.json'\n",
    "\n",
    "start = time.time()\n",
    "\n",
    "with open(filepath, encoding = 'utf8') as f:\n",
    "    data = json.load(f)\n",
    "data = data[\"GraphImages\"]\n",
    "\n",
    "end = time.time()\n",
    "start = time.time()\n",
    "\n",
    "df = pd.DataFrame(list(map(get_features, data)),\n",
    "    columns = [\"location_id\", \"location_name\", \"address\", \"zip_code\", \"city_name\", \"region_name\", \"tags\", \"timestamp\"])\n",
    "\n",
    "end = time.time()"
   ]
  },
  {
   "cell_type": "code",
   "execution_count": 7,
   "metadata": {},
   "outputs": [
    {
     "name": "stdout",
     "output_type": "stream",
     "text": [
      "['' '' '' ... '' '' '']\n"
     ]
    }
   ],
   "source": [
    "print(df.address.values)"
   ]
  },
  {
   "cell_type": "code",
   "execution_count": 62,
   "metadata": {},
   "outputs": [
    {
     "name": "stdout",
     "output_type": "stream",
     "text": [
      "Counter({'Helsinki': 99957, 'Finland': 3, 'Porn sex tube videos xxx pics pussy in porno xnxx com': 2, 'TAVASTIA-klubi': 1, 'Naistenklinikan Synnytysosasto': 1, 'Linnanmäki': 1, 'Silencio Oy': 1, 'BasBas Kulma': 1, 'IDEALfit Eira': 1, 'Kalasatamanpuisto': 1, 'R/H': 1, 'Mall of Tripla': 1, 'Ooppera & Baletti': 1, 'Restaurant Demo': 1, 'Töölö': 1, \"Mayor's Gym\": 1, 'Finland / Lapland': 1, 'Radio Rock': 1, 'Helsinki Harbor': 1, 'Savoy-teatteri': 1, 'Pöllölaakso': 1, 'Satamakatu 5': 1, 'Suomenlinna Sveaborg': 1, 'Cafe Regatta': 1, 'Lauttasaari, Onnellisten saari': 1})\n"
     ]
    }
   ],
   "source": [
    "locations=(df['location_name'].map(str) + df['address'].map(str)+ df['zip_code'].map(str)).values.tolist()\n",
    "locations=df.location_name.values.tolist()\n",
    "locations = [x for x in locations if x != []]\n",
    "locations = [x for x in locations if x]\n",
    "res = [] \n",
    "for val in locations: \n",
    "    if val != None : \n",
    "        res.append(val) \n",
    "n=100000\n",
    "print(collections.Counter(res))"
   ]
  },
  {
   "cell_type": "code",
   "execution_count": 60,
   "metadata": {},
   "outputs": [
    {
     "data": {
      "image/png": "[encoded data removed]",
      "text/plain": [
       "<Figure size 432x288 with 1 Axes>"
      ]
     },
     "metadata": {
      "needs_background": "light"
     },
     "output_type": "display_data"
    }
   ],
   "source": [
    "zipCodes=df.zip_code.values.tolist()\n",
    "zipCodes = [x for x in zipCodes if x != []]\n",
    "zipCodes = [x for x in zipCodes if x]\n",
    "res=collections.Counter(zipCodes)\n",
    "plt.bar(res.keys(), res.values())\n",
    "plt.show()"
   ]
  },
  {
   "cell_type": "code",
   "execution_count": null,
   "metadata": {},
   "outputs": [],
   "source": []
  }
 ],
 "metadata": {
  "kernelspec": {
   "display_name": "Python 3",
   "language": "python",
   "name": "python3"
  },
  "language_info": {
   "codemirror_mode": {
    "name": "ipython",
    "version": 3
   },
   "file_extension": ".py",
   "mimetype": "text/x-python",
   "name": "python",
   "nbconvert_exporter": "python",
   "pygments_lexer": "ipython3",
   "version": "3.8.3"
  }
 },
 "nbformat": 4,
 "nbformat_minor": 2
}
