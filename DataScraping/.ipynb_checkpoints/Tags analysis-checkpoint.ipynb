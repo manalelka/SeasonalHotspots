{
 "cells": [
  {
   "cell_type": "markdown",
   "metadata": {},
   "source": [
    "## Useful imports"
   ]
  },
  {
   "cell_type": "code",
   "execution_count": 2,
   "metadata": {},
   "outputs": [],
   "source": [
    "import pandas as pd\n",
    "import numpy as np\n",
    "import json\n",
    "import re\n",
    "import time\n",
    "import datetime as dt\n",
    "import matplotlib.pyplot as plt\n",
    "import ast\n",
    "import operator\n",
    "from sklearn import linear_model, model_selection, feature_selection\n",
    "from selenium import webdriver\n",
    "from bs4 import BeautifulSoup\n",
    "from webdriver_manager.chrome import ChromeDriverManager"
   ]
  },
  {
   "cell_type": "code",
   "execution_count": 3,
   "metadata": {},
   "outputs": [],
   "source": [
    "\n",
    "def get_features(row):\n",
    "    \"\"\" access the wanted fields from one row of data \"\"\"\n",
    "    try:\n",
    "        location_id = row[\"location\"][\"id\"]\n",
    "    except:\n",
    "        location_id = None\n",
    "    try:\n",
    "        location_name = row[\"location\"][\"name\"]\n",
    "    except:\n",
    "        location_name = None\n",
    "    try:\n",
    "        tags = row[\"tags\"]\n",
    "    except:\n",
    "        tags = []\n",
    "    timestamp = dt.datetime.fromtimestamp(row[\"taken_at_timestamp\"])\n",
    "    \n",
    "\n",
    "    try:\n",
    "        address_str = json.loads(row[\"location\"][\"address_json\"])\n",
    "        address = address_str[\"street_address\"]\n",
    "        zip_code = address_str[\"zip_code\"]\n",
    "        city_name = address_str[\"city_name\"]\n",
    "        region_name = address_str[\"region_name\"]\n",
    "    except:\n",
    "        address_str = []\n",
    "        address = []\n",
    "        zip_code = []\n",
    "        city_name = []\n",
    "        region_name = []\n",
    "\n",
    "\n",
    "    return [location_id, location_name, address, zip_code, city_name, region_name, tags, timestamp]"
   ]
  },
  {
   "cell_type": "code",
   "execution_count": 4,
   "metadata": {},
   "outputs": [],
   "source": [
    "filepath = '100k.json'\n",
    "\n",
    "start = time.time()\n",
    "\n",
    "with open(filepath, encoding = 'utf8') as f:\n",
    "    data = json.load(f)\n",
    "data = data[\"GraphImages\"]\n",
    "\n",
    "end = time.time()\n",
    "start = time.time()\n",
    "\n",
    "df = pd.DataFrame(list(map(get_features, data)),\n",
    "    columns = [\"location_id\", \"location_name\", \"address\", \"zip_code\", \"city_name\", \"region_name\", \"tags\", \"timestamp\"])\n",
    "\n",
    "end = time.time()"
   ]
  },
  {
   "cell_type": "code",
   "execution_count": null,
   "metadata": {},
   "outputs": [],
   "source": []
  },
  {
   "cell_type": "markdown",
   "metadata": {},
   "source": [
    "## Extract most used tags :"
   ]
  },
  {
   "cell_type": "code",
   "execution_count": null,
   "metadata": {},
   "outputs": [],
   "source": [
    "def get_top_tags(df):\n",
    "    tag_counts = {}\n",
    "    for tags in df.tags.values:\n",
    "        if(tags):\n",
    "            for tag in ast.literal_eval(str(tags)):\n",
    "                if tag in tag_counts:\n",
    "                    tag_counts[tag] += 1\n",
    "                else:\n",
    "                    tag_counts[tag] = 1\n",
    "    tag_counts = sorted(tag_counts.items(), key=operator.itemgetter(1), reverse=True)\n",
    "    top_tags = map(lambda row: row[0], tag_counts[0:10])\n",
    "    return list(top_tags)\n",
    "top_tags=get_top_tags(df)"
   ]
  },
  {
   "cell_type": "markdown",
   "metadata": {},
   "source": [
    "## Get the number of posts for each tag in the frequent tags list and also the frequency of posting with that tag :"
   ]
  },
  {
   "cell_type": "code",
   "execution_count": null,
   "metadata": {},
   "outputs": [],
   "source": [
    "def nbPosts_freq(taglist):\n",
    "    driver = webdriver.Chrome(ChromeDriverManager().install())\n",
    "    tag_df  = pd.DataFrame(columns = ['Hashtag', 'Number of Posts', 'Posting Freq (mins)'])\n",
    "    for tag in taglist:\n",
    "\n",
    "        driver.get('https://www.instagram.com/explore/tags/'+str(tag))\n",
    "        soup = BeautifulSoup(driver.page_source,\"lxml\")\n",
    "\n",
    "        # Extract current hashtag name\n",
    "        tagname = tag\n",
    "        # Extract total number of posts in this hashtag\n",
    "        # NOTE: Class name may change in the website code\n",
    "        # Get the latest class name by inspecting web code\n",
    "        if(soup.find('span', {'class': 'g47SY'})):\n",
    "            nposts = soup.find('span', {'class': 'g47SY'}).text\n",
    "\n",
    "            # Extract all post links from 'explore tags' page\n",
    "            # Needed to extract post frequency of recent posts\n",
    "            myli = []\n",
    "            for a in soup.find_all('a', href=True):\n",
    "                myli.append(a['href'])\n",
    "            # Keep link of only 1st and 9th most recent post\n",
    "            newmyli = [x for x in myli if x.startswith('/p/')]\n",
    "            #del newmyli[:10]\n",
    "            #del newmyli[10:]\n",
    "            #del newmyli[1:9]\n",
    "            newmyli =[newmyli[-1], newmyli[0]]\n",
    "            timediff = []\n",
    "            # Extract the posting time of 1st and 9th most recent post for a tag\n",
    "            for j in range(len(newmyli)):\n",
    "                driver.get('https://www.instagram.com'+str(newmyli[j]))\n",
    "                soup = BeautifulSoup(driver.page_source,\"lxml\")\n",
    "\n",
    "                for i in soup.findAll('time'):\n",
    "                    if i.has_attr('datetime'):\n",
    "                        timediff.append(i['datetime'])\n",
    "                        #print(i['datetime'])\n",
    "\n",
    "            # Calculate time difference between posts\n",
    "            # For obtaining posting frequency\n",
    "            datetimeFormat = '%Y-%m-%dT%H:%M:%S.%fZ'\n",
    "            diff = dt.datetime.strptime(timediff[0], datetimeFormat)\\\n",
    "                - dt.datetime.strptime(timediff[1], datetimeFormat)\n",
    "            #print(dt.datetime.strptime(timediff[0], datetimeFormat),dt.datetime.strptime(timediff[1], datetimeFormat))\n",
    "            pfreq= int(diff.total_seconds()/(9*60))\n",
    "            if(pfreq==0):\n",
    "                pfreq=\"Posting frequency very high (less than 1 min)\"\n",
    "            print(pfreq)\n",
    "            # Add hashtag info to dataframe\n",
    "            tag_df.loc[len(tag_df)] = [tagname, nposts, pfreq]\n",
    "    driver.quit()\n",
    "    return tag_df\n",
    "nbPosts_freq_perTag=nbPosts_freq(['wwwwwwwwwww'])\n",
    "print(nbPosts_freq_perTag)"
   ]
  },
  {
   "cell_type": "markdown",
   "metadata": {},
   "source": [
    "## Get the months where a tag is most used :"
   ]
  },
  {
   "cell_type": "code",
   "execution_count": null,
   "metadata": {},
   "outputs": [],
   "source": [
    "def findMonthsForTag(df,tag):\n",
    "    times_df  = pd.DataFrame(columns = ['Tag', 'Timestamps'])\n",
    "    for ind in df.index: \n",
    "        if(df['tags'][ind]):\n",
    "            if(tag in str(df.iloc[ind][6])):\n",
    "                temp=pd.DataFrame([[tag,df.iloc[ind][7].strftime('%#m')]], columns= ['Tag', 'Timestamps'])\n",
    "                times_df=times_df.append(temp,ignore_index = True)\n",
    "    times_df=(times_df.groupby('Tag')['Timestamps']\n",
    "       .apply(lambda x: ','.join(map(str, x)))\n",
    "       .reset_index())\n",
    "    return times_df\n",
    "def tagTimestamps(interestingTag):\n",
    "    res=findMonthsForTag(df,interestingTag)\n",
    "    if(res.empty==False):\n",
    "        months = list(map(int, (res['Timestamps'].values)[0].split(\",\")))\n",
    "        fig, ax = plt.subplots()\n",
    "        bins = np.arange(1,14)\n",
    "        ax.hist(months, bins = bins, edgecolor=\"k\", align='left')\n",
    "        ax.set_xticks(bins[:-1])\n",
    "        ax.set_xticklabels([dt.date(1900,i,1).strftime('%b') for i in bins[:-1]] )\n",
    "        title='Use of the tag \"'+interestingTag+ '\" along the summertime.'\n",
    "        plt.title(title)\n",
    "        plt.show()\n",
    "    else:\n",
    "        print(\"Tag not used.\")\n",
    "        \n",
    "tagTimestamps(\"nature\")\n",
    "tagTimestamps(\"festival\")\n",
    "tagTimestamps(\"covid\")\n",
    "tagTimestamps(\"hike\")\n",
    "tagTimestamps(\"sweater\")"
   ]
  },
  {
   "cell_type": "code",
   "execution_count": null,
   "metadata": {},
   "outputs": [],
   "source": []
  },
  {
   "cell_type": "code",
   "execution_count": null,
   "metadata": {},
   "outputs": [],
   "source": []
  }
 ],
 "metadata": {
  "kernelspec": {
   "display_name": "Python 3",
   "language": "python",
   "name": "python3"
  },
  "language_info": {
   "codemirror_mode": {
    "name": "ipython",
    "version": 3
   },
   "file_extension": ".py",
   "mimetype": "text/x-python",
   "name": "python",
   "nbconvert_exporter": "python",
   "pygments_lexer": "ipython3",
   "version": "3.8.3"
  }
 },
 "nbformat": 4,
 "nbformat_minor": 2
}
